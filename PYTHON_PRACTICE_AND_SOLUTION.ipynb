{
 "cells": [
  {
   "cell_type": "markdown",
   "id": "7a65eff3",
   "metadata": {},
   "source": [
    "# 100 Question and Solution "
   ]
  },
  {
   "cell_type": "markdown",
   "id": "6bb991a1",
   "metadata": {},
   "source": [
    "1.\tUser will input (3ages).Find the oldest one"
   ]
  },
  {
   "cell_type": "code",
   "execution_count": 1,
   "id": "3335699b",
   "metadata": {},
   "outputs": [],
   "source": [
    "def oldest_age_calculator():\n",
    "    input_first=int(input(\"Enter first value\"))\n",
    "    input_second=int(input('Enter second value'))\n",
    "    input_third=int(input('Enter third value'))\n",
    "    \n",
    "    if input_first>input_second and input_first>input_third:\n",
    "        print(input_first)\n",
    "    elif input_second>input_first and input_second>input_third:\n",
    "        print(input_second)\n",
    "    else:\n",
    "        print(input_third)\n",
    "    \n",
    "    "
   ]
  },
  {
   "cell_type": "markdown",
   "id": "756e4f92",
   "metadata": {},
   "source": [
    "2)\tWrite a program that will convert celsius value to fahrenheit"
   ]
  },
  {
   "cell_type": "code",
   "execution_count": 2,
   "id": "34f0b03e",
   "metadata": {},
   "outputs": [],
   "source": [
    "import matplotlib.pyplot as plt"
   ]
  },
  {
   "cell_type": "code",
   "execution_count": 3,
   "id": "819c1e55",
   "metadata": {},
   "outputs": [
    {
     "data": {
      "image/jpeg": "[encoded data removed]",
      "text/plain": [
       "<IPython.core.display.Image object>"
      ]
     },
     "execution_count": 3,
     "metadata": {},
     "output_type": "execute_result"
    }
   ],
   "source": [
    "from IPython.display import Image\n",
    "Image(filename='Fahrenheit to Celsius.jpg')"
   ]
  },
  {
   "cell_type": "code",
   "execution_count": 4,
   "id": "46e3975e",
   "metadata": {},
   "outputs": [],
   "source": [
    "def fhrenheit_to_Celsius(x):\n",
    "    x=int(x)\n",
    "    ferenheit=(x-32)/1.8\n",
    "    \n",
    "    print(ferenheit)"
   ]
  },
  {
   "cell_type": "markdown",
   "id": "6d4c6d91",
   "metadata": {},
   "source": [
    "3)User will input (2numbers).Write a program to swap the numbers"
   ]
  },
  {
   "cell_type": "code",
   "execution_count": 5,
   "id": "0862d6b8",
   "metadata": {},
   "outputs": [],
   "source": [
    "def swap_the_number():\n",
    "    first_value=int(input(\"Enter_first_value\"))\n",
    "    second_value=int(input(\"Enter_second_value\"))\n",
    "    variable = second_value\n",
    "    second_value=first_value\n",
    "    first_value=variable\n",
    "    print(first_value,second_value)"
   ]
  },
  {
   "cell_type": "markdown",
   "id": "34b9d28c",
   "metadata": {},
   "source": [
    "4)Write a program that will give you the sum of 3 digits"
   ]
  },
  {
   "cell_type": "code",
   "execution_count": 6,
   "id": "a64b2058",
   "metadata": {},
   "outputs": [],
   "source": [
    "def sum_of_three_digit(x):\n",
    "    a=x%10  #will return you reminder after division 456%10=6\n",
    "    x=x//10 #integer division method will give you quotient 456//10=45\n",
    "    b=x%10\n",
    "    c=x//10   \n",
    "    return (a+b+c)"
   ]
  },
  {
   "cell_type": "markdown",
   "id": "dde3f0a5",
   "metadata": {},
   "source": [
    "5)Write a program that will reverse a four digit number.Also it checks whether the reverse is true."
   ]
  },
  {
   "cell_type": "code",
   "execution_count": 7,
   "id": "0b528bb5",
   "metadata": {},
   "outputs": [],
   "source": [
    "def sum_of_four_digit(x):\n",
    "    a=x%10  #will return you reminder after division 456%10=6\n",
    "    x=x//10 #integer division method will give you quotient 456//10=45\n",
    "    b=x%10\n",
    "    x=x//10  \n",
    "    c=x%10\n",
    "    d=x//10\n",
    "    print(a+b+c+d)"
   ]
  },
  {
   "cell_type": "code",
   "execution_count": 8,
   "id": "fff2a75e",
   "metadata": {},
   "outputs": [],
   "source": [
    "def reverse_of_four_digit(x):\n",
    "    num=int(x)\n",
    "    \n",
    "    a=num%10\n",
    "    num=num//10\n",
    "    \n",
    "    b=num%10\n",
    "    num=num//10\n",
    "    \n",
    "    c=num%10\n",
    "    d=num//10\n",
    "    \n",
    "    rev=a*1000+b*100+c*10+d\n",
    "    \n",
    "    print(rev)\n",
    "    \n",
    "    "
   ]
  },
  {
   "cell_type": "markdown",
   "id": "cf242127",
   "metadata": {},
   "source": [
    "6)Write a program that will tell whether the number entered by the user is odd or even."
   ]
  },
  {
   "cell_type": "code",
   "execution_count": 9,
   "id": "aae1f4d2",
   "metadata": {},
   "outputs": [],
   "source": [
    "def odd_even(x):\n",
    "    if x%2==0:\n",
    "        print('even_number')\n",
    "    else:\n",
    "        print(\"odd_number\")"
   ]
  },
  {
   "cell_type": "markdown",
   "id": "cc4b7cc4",
   "metadata": {},
   "source": [
    "7)Write a program that will tell whether the given year is a leap year or not."
   ]
  },
  {
   "cell_type": "code",
   "execution_count": 10,
   "id": "72ccd638",
   "metadata": {},
   "outputs": [],
   "source": [
    "def is_leap_year(year):\n",
    "    if year % 4 == 0:\n",
    "        if year % 100 == 0:\n",
    "            if year % 400 == 0:\n",
    "                return True\n",
    "            else:\n",
    "                return False\n",
    "        else:\n",
    "            return True\n",
    "    else:\n",
    "        return False\n"
   ]
  },
  {
   "cell_type": "markdown",
   "id": "e6a9916f",
   "metadata": {},
   "source": [
    "8)Write a program to find the euclidean distance between two coordinates."
   ]
  },
  {
   "cell_type": "code",
   "execution_count": 19,
   "id": "a8d11951",
   "metadata": {},
   "outputs": [],
   "source": [
    "def  euclidean_distance():\n",
    "    x1=int(input(\"Enter_x1_value\"))\n",
    "    y1=int(input(\"Enter_y1_value\"))\n",
    "    x2=int(input(\"Enter_x2_value\"))\n",
    "    y2=int(input(\"Enter_y2_value\"))\n",
    "\n",
    "    sum=((x2-x1)**2+(y2-y1)**2)**(1/2)\n",
    "\n",
    "    print(sum)\n"
   ]
  },
  {
   "cell_type": "markdown",
   "id": "d7958de0",
   "metadata": {},
   "source": [
    "9)Write a program that take a user inputr of three angles and will find out whether it can form a triangle or not."
   ]
  },
  {
   "cell_type": "code",
   "execution_count": 24,
   "id": "ba29eee0",
   "metadata": {},
   "outputs": [],
   "source": [
    "def three_angles():\n",
    "    x1=int(input(\"Enter_x1_value\"))\n",
    "    y1=int(input(\"Enter_y1_value\"))\n",
    "    z1=int(input(\"Enter_z1_value\"))\n",
    "    \n",
    "    if (x1+y1+z1)==180:\n",
    "        print(\"trangle\")\n",
    "    else:\n",
    "        print(\"not an trangle\")\n",
    "    \n"
   ]
  },
  {
   "cell_type": "markdown",
   "id": "cc97d39e",
   "metadata": {},
   "source": [
    "10)Write a program that will take user input of cost price and selling price and determines whether its a loss or a profit"
   ]
  },
  {
   "cell_type": "code",
   "execution_count": 28,
   "id": "255f7dff",
   "metadata": {},
   "outputs": [],
   "source": [
    "def loss_or_profit():\n",
    "    input_cost=int(input(\"Enter_input_cos_value\"))\n",
    "    sell_cost=int(input(\"Enter_sell_cos_value\"))\n",
    "    if sell_cost>input_cost:\n",
    "        print(\"profit\")\n",
    "    elif sell_cost==input_cost:\n",
    "        print(\"Barabar\")\n",
    "    else:\n",
    "        print(\"loss\")"
   ]
  },
  {
   "cell_type": "markdown",
   "id": "1a739ab8",
   "metadata": {},
   "source": [
    "11)Write a program to find the simple interest when the value of principle,rate of interest and time period is given."
   ]
  },
  {
   "cell_type": "code",
   "execution_count": 38,
   "id": "419dfa28",
   "metadata": {},
   "outputs": [],
   "source": [
    "def simple_interest():\n",
    "    principle=float(input(\"principle\"))\n",
    "    time_period=float(input(\"time_period\"))\n",
    "    rate_of_interest=float(input(\"rate_of_interest\"))\n",
    "    \n",
    "    simple_interest=(principle*rate_of_interest*time_period)/100\n",
    "    print(simple_interest)"
   ]
  },
  {
   "cell_type": "code",
   "execution_count": 39,
   "id": "74b05e1d",
   "metadata": {},
   "outputs": [
    {
     "name": "stdout",
     "output_type": "stream",
     "text": [
      "principle10000\n",
      "time_period2\n",
      "rate_of_interest9.1\n",
      "1820.0\n"
     ]
    }
   ],
   "source": [
    "simple_interest()"
   ]
  },
  {
   "cell_type": "code",
   "execution_count": null,
   "id": "e318e30d",
   "metadata": {},
   "outputs": [],
   "source": []
  }
 ],
 "metadata": {
  "kernelspec": {
   "display_name": "Python 3 (ipykernel)",
   "language": "python",
   "name": "python3"
  },
  "language_info": {
   "codemirror_mode": {
    "name": "ipython",
    "version": 3
   },
   "file_extension": ".py",
   "mimetype": "text/x-python",
   "name": "python",
   "nbconvert_exporter": "python",
   "pygments_lexer": "ipython3",
   "version": "3.9.7"
  }
 },
 "nbformat": 4,
 "nbformat_minor": 5
}
